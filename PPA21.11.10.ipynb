{
 "cells": [
  {
   "cell_type": "markdown",
   "id": "fbbbe944",
   "metadata": {},
   "source": [
    "Introduction to Python and Jupyter Notebooks"
   ]
  },
  {
   "cell_type": "code",
   "execution_count": null,
   "id": "f4c04351",
   "metadata": {},
   "outputs": [],
   "source": [
    "x = 2\n",
    "y = 3"
   ]
  },
  {
   "cell_type": "code",
   "execution_count": null,
   "id": "c99a6d41",
   "metadata": {},
   "outputs": [],
   "source": [
    "x"
   ]
  },
  {
   "cell_type": "code",
   "execution_count": null,
   "id": "c94508b6",
   "metadata": {},
   "outputs": [],
   "source": [
    "x+y"
   ]
  },
  {
   "cell_type": "code",
   "execution_count": null,
   "id": "f03fadbd",
   "metadata": {},
   "outputs": [],
   "source": [
    "# This is a comment.  It does nothing if I run this block\n",
    "# But it is useful to put notes in"
   ]
  },
  {
   "cell_type": "code",
   "execution_count": null,
   "id": "991c2517",
   "metadata": {},
   "outputs": [],
   "source": [
    "# Assign a value\n",
    "z = x+y\n",
    "z"
   ]
  },
  {
   "cell_type": "code",
   "execution_count": null,
   "id": "15bff958",
   "metadata": {},
   "outputs": [],
   "source": []
  },
  {
   "cell_type": "code",
   "execution_count": null,
   "id": "265bcc8e",
   "metadata": {},
   "outputs": [],
   "source": []
  },
  {
   "cell_type": "code",
   "execution_count": null,
   "id": "fa4aef44",
   "metadata": {},
   "outputs": [],
   "source": []
  },
  {
   "cell_type": "code",
   "execution_count": null,
   "id": "cd5df447",
   "metadata": {},
   "outputs": [],
   "source": [
    "xlist = [1,2,3,4,5,6]\n",
    "ylist = [-1,1,3,4,6,8]"
   ]
  },
  {
   "cell_type": "markdown",
   "id": "fc7b2731",
   "metadata": {},
   "source": [
    "Plotting in Python"
   ]
  },
  {
   "cell_type": "code",
   "execution_count": null,
   "id": "0a20b289",
   "metadata": {},
   "outputs": [],
   "source": [
    "import plotly.express as px"
   ]
  },
  {
   "cell_type": "code",
   "execution_count": null,
   "id": "dde42c76",
   "metadata": {},
   "outputs": [],
   "source": []
  },
  {
   "cell_type": "code",
   "execution_count": null,
   "id": "aa64fa85",
   "metadata": {},
   "outputs": [],
   "source": [
    "fig = px.scatter(x=xlist, y=ylist)\n",
    "fig.show()"
   ]
  },
  {
   "cell_type": "code",
   "execution_count": null,
   "id": "963769ac",
   "metadata": {},
   "outputs": [],
   "source": [
    "fig = px.line(x=xlist, y=ylist)\n",
    "fig.add_scatter(x=[2], y=[3])\n",
    "fig.show()"
   ]
  },
  {
   "cell_type": "code",
   "execution_count": null,
   "id": "0efec5f7",
   "metadata": {},
   "outputs": [],
   "source": [
    "# Make a list for y which is the cooresponding x component squared (remove the # on the y = line)\n",
    "xlist = [1,2,3,4,5,6]\n",
    "#ylist = \n"
   ]
  },
  {
   "cell_type": "code",
   "execution_count": null,
   "id": "a940f069",
   "metadata": {},
   "outputs": [],
   "source": [
    "# Make a line plot with x and y, make a scatter plot with x and y\n",
    "\n"
   ]
  },
  {
   "cell_type": "code",
   "execution_count": null,
   "id": "e044f6f4",
   "metadata": {},
   "outputs": [],
   "source": []
  },
  {
   "cell_type": "code",
   "execution_count": null,
   "id": "12d5dbb7",
   "metadata": {},
   "outputs": [],
   "source": []
  },
  {
   "cell_type": "code",
   "execution_count": null,
   "id": "cb33e305",
   "metadata": {},
   "outputs": [],
   "source": [
    "# We can also do three dimensions\n",
    "xlist = list(range(5))*5\n",
    "ylist = sum([[num,]*5 for num in range(5) ], [])\n",
    "zlist = [ 1+0.5*x +.2*y for (x,y) in zip (xlist,ylist)]\n",
    "\n",
    "fig = px.scatter_3d(x=xlist, y=ylist, z=zlist)\n",
    "fig.show()"
   ]
  },
  {
   "cell_type": "code",
   "execution_count": null,
   "id": "7d8f348a",
   "metadata": {},
   "outputs": [],
   "source": [
    "fig = px.scatter_3d(x=xlist, y=ylist, z=zlist, color = zlist)\n",
    "fig.show()"
   ]
  },
  {
   "cell_type": "code",
   "execution_count": null,
   "id": "0418cf48",
   "metadata": {},
   "outputs": [],
   "source": []
  },
  {
   "cell_type": "code",
   "execution_count": null,
   "id": "527b3070",
   "metadata": {},
   "outputs": [],
   "source": []
  },
  {
   "cell_type": "markdown",
   "id": "4997f454",
   "metadata": {},
   "source": [
    "## Now to pasta sauce"
   ]
  },
  {
   "cell_type": "markdown",
   "id": "216aefae",
   "metadata": {},
   "source": [
    "The following data is based upon a real article I read years ago.  I cannot find the article now, so I fabricated the data.  The story is ereal, the data is not."
   ]
  },
  {
   "cell_type": "code",
   "execution_count": null,
   "id": "0fc62322",
   "metadata": {},
   "outputs": [],
   "source": [
    "import pandas as pd"
   ]
  },
  {
   "cell_type": "code",
   "execution_count": null,
   "id": "9371117e",
   "metadata": {},
   "outputs": [],
   "source": [
    "df = pd.read_csv(\"SauceSurvey.csv\")\n",
    "df"
   ]
  },
  {
   "cell_type": "markdown",
   "id": "21e90a30",
   "metadata": {},
   "source": [
    "The survey is from 300 people.  How can we find the BEST pasta sauce?\n",
    "\n",
    "Maybe find the average of each characteristic and the best sauce will be that average?"
   ]
  },
  {
   "cell_type": "code",
   "execution_count": null,
   "id": "69fcf612",
   "metadata": {},
   "outputs": [],
   "source": [
    "df[\"chunky\"].mean()"
   ]
  },
  {
   "cell_type": "code",
   "execution_count": null,
   "id": "2ae46438",
   "metadata": {},
   "outputs": [],
   "source": [
    "df[\"spicy\"].mean(),df[\"meaty\"].mean()"
   ]
  },
  {
   "cell_type": "markdown",
   "id": "ac6f67e2",
   "metadata": {},
   "source": [
    "Is the best sauce 38 chunky 46 spicy and 39 meaty?"
   ]
  },
  {
   "cell_type": "code",
   "execution_count": null,
   "id": "62d0d213",
   "metadata": {},
   "outputs": [],
   "source": [
    "#Lets graph it and look?"
   ]
  },
  {
   "cell_type": "code",
   "execution_count": null,
   "id": "df50180f",
   "metadata": {
    "scrolled": true
   },
   "outputs": [],
   "source": [
    "fig = px.scatter(x=df[\"chunky\"], y=df[\"spicy\"])\n",
    "fig.show()"
   ]
  },
  {
   "cell_type": "code",
   "execution_count": null,
   "id": "caced287",
   "metadata": {},
   "outputs": [],
   "source": [
    "fig = px.scatter(x=df[\"chunky\"], y=df[\"spicy\"])\n",
    "fig.add_scatter(x = [38], y = [46])\n",
    "fig.show()"
   ]
  },
  {
   "cell_type": "code",
   "execution_count": null,
   "id": "1b461340",
   "metadata": {},
   "outputs": [],
   "source": []
  },
  {
   "cell_type": "code",
   "execution_count": null,
   "id": "b7f9996a",
   "metadata": {},
   "outputs": [],
   "source": []
  },
  {
   "cell_type": "code",
   "execution_count": null,
   "id": "5e1efa83",
   "metadata": {},
   "outputs": [],
   "source": [
    "fig = px.scatter_3d(df, x='chunky', y='spicy', z='meaty')\n",
    "fig.show()"
   ]
  },
  {
   "cell_type": "code",
   "execution_count": null,
   "id": "2e678729",
   "metadata": {},
   "outputs": [],
   "source": [
    "# You all replot the 3d scatter including that mean point of (38,46,39) 38 chunky 46 spicy and 39 meaty\n",
    "\n",
    "fig = px.scatter_3d(df, x='chunky', y='spicy', z='meaty')\n",
    "fig.add_scatter3d(x = [38], y = [46], z=[39])\n",
    "fig.show()\n",
    "\n",
    "\n"
   ]
  },
  {
   "cell_type": "code",
   "execution_count": null,
   "id": "be682e43",
   "metadata": {},
   "outputs": [],
   "source": [
    "df"
   ]
  },
  {
   "cell_type": "code",
   "execution_count": null,
   "id": "cef8e5a7",
   "metadata": {},
   "outputs": [],
   "source": []
  },
  {
   "cell_type": "code",
   "execution_count": null,
   "id": "2e5324bd",
   "metadata": {},
   "outputs": [],
   "source": [
    "df2 = df.copy()\n",
    "df2.loc[len(df)] = [300,df['chunky'].mean(),df['spicy'].mean(),df['meaty'].mean(),4]\n"
   ]
  },
  {
   "cell_type": "code",
   "execution_count": null,
   "id": "d86fe3ab",
   "metadata": {
    "scrolled": true
   },
   "outputs": [],
   "source": [
    "fig = px.scatter_3d(df2, x='chunky', y='spicy', z='meaty', color = 'class',\n",
    "                   range_x =[0,100],range_y =[0,100],range_z =[0,100]\n",
    "                   )\n",
    "\n",
    "fig.show()"
   ]
  },
  {
   "cell_type": "code",
   "execution_count": null,
   "id": "91ccc757",
   "metadata": {},
   "outputs": [],
   "source": [
    "# But how can we identify the groups without the teacher telling us?"
   ]
  },
  {
   "cell_type": "code",
   "execution_count": null,
   "id": "8d159497",
   "metadata": {},
   "outputs": [],
   "source": []
  },
  {
   "cell_type": "code",
   "execution_count": null,
   "id": "af3bf511",
   "metadata": {},
   "outputs": [],
   "source": [
    "data = df[['chunky','spicy','meaty']]"
   ]
  },
  {
   "cell_type": "code",
   "execution_count": null,
   "id": "477b698a",
   "metadata": {},
   "outputs": [],
   "source": []
  },
  {
   "cell_type": "code",
   "execution_count": null,
   "id": "d806e928",
   "metadata": {},
   "outputs": [],
   "source": [
    "from sklearn.cluster import KMeans\n",
    "kmeans = KMeans(n_clusters=3, init='k-means++', random_state=0).fit(data)\n"
   ]
  },
  {
   "cell_type": "code",
   "execution_count": null,
   "id": "731c97f8",
   "metadata": {},
   "outputs": [],
   "source": [
    "kmeans.cluster_centers_"
   ]
  },
  {
   "cell_type": "code",
   "execution_count": null,
   "id": "2f253d4a",
   "metadata": {},
   "outputs": [],
   "source": [
    "kmeans.predict(data)"
   ]
  },
  {
   "cell_type": "code",
   "execution_count": null,
   "id": "678fa373",
   "metadata": {},
   "outputs": [],
   "source": [
    "data"
   ]
  },
  {
   "cell_type": "markdown",
   "id": "eaa06cd8",
   "metadata": {},
   "source": [
    "# Elbow method - total variation explained"
   ]
  },
  {
   "cell_type": "markdown",
   "id": "2515de35",
   "metadata": {},
   "source": [
    "Select the bend or elbow point from the within sum square group error"
   ]
  },
  {
   "cell_type": "code",
   "execution_count": null,
   "id": "2a1dd8eb",
   "metadata": {},
   "outputs": [],
   "source": [
    "# Within Groups SSE for the elbow method\n",
    "\n",
    "def computeWSS(points, kmax):\n",
    "  totalsse = []\n",
    "  for k in range(1, kmax+1):\n",
    "    kmeans = KMeans(n_clusters = k).fit(points)\n",
    "    centers = kmeans.cluster_centers_\n",
    "    preds = kmeans.predict(points)\n",
    "    sse = 0\n",
    "    \n",
    "    for i in range(len(points)):\n",
    "        center = centers[preds[i]]\n",
    "        sse += (points.loc[i][0] - center[0]) ** 2 + (points.loc[i][1] - center[1]) ** 2 + (points.loc[i][2] - center[2]) ** 2\n",
    "        \n",
    "    totalsse.append(sse)\n",
    "  return totalsse"
   ]
  },
  {
   "cell_type": "code",
   "execution_count": null,
   "id": "2a2c47f2",
   "metadata": {},
   "outputs": [],
   "source": [
    "WSS = computeWSS(data,10)\n",
    "WSS"
   ]
  },
  {
   "cell_type": "code",
   "execution_count": null,
   "id": "5787c9e2",
   "metadata": {},
   "outputs": [],
   "source": [
    "fig = px.line(x=range(1,11), y=WSS, title='WSS')\n",
    "fig.show()"
   ]
  },
  {
   "cell_type": "markdown",
   "id": "4b980526",
   "metadata": {},
   "source": [
    "https://en.wikipedia.org/wiki/Determining_the_number_of_clusters_in_a_data_set"
   ]
  }
 ],
 "metadata": {
  "kernelspec": {
   "display_name": "Python 3 (ipykernel)",
   "language": "python",
   "name": "python3"
  },
  "language_info": {
   "codemirror_mode": {
    "name": "ipython",
    "version": 3
   },
   "file_extension": ".py",
   "mimetype": "text/x-python",
   "name": "python",
   "nbconvert_exporter": "python",
   "pygments_lexer": "ipython3",
   "version": "3.8.10"
  }
 },
 "nbformat": 4,
 "nbformat_minor": 5
}
